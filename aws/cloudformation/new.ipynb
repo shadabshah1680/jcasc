{
 "cells": [
  {
   "cell_type": "code",
   "execution_count": 78,
   "metadata": {},
   "outputs": [],
   "source": [
    "a=[('shadab',1),('khawar',2),('ali',3),('asad',4)]\n",
    "\n",
    "def max(a):\n",
    " b=[]\n",
    " c=[]\n",
    " for i   in a:\n",
    "  b.append(i[0])\n",
    "  c.append(i[1])\n",
    " \n",
    " d=[index for index, item in enumerate(c) if item == max(c)][0]\n",
    " e=b[d]\n",
    " f=c[d]\n",
    " g=[]\n",
    " g.append(e)\n",
    " g.append(f)\n",
    " h=tuple(g)\n",
    " return h"
   ]
  }
 ],
 "metadata": {
  "kernelspec": {
   "display_name": "Python 3.8.10 64-bit",
   "language": "python",
   "name": "python3"
  },
  "language_info": {
   "codemirror_mode": {
    "name": "ipython",
    "version": 3
   },
   "file_extension": ".py",
   "mimetype": "text/x-python",
   "name": "python",
   "nbconvert_exporter": "python",
   "pygments_lexer": "ipython3",
   "version": "3.8.10"
  },
  "orig_nbformat": 4,
  "vscode": {
   "interpreter": {
    "hash": "916dbcbb3f70747c44a77c7bcd40155683ae19c65e1c03b4aa3499c5328201f1"
   }
  }
 },
 "nbformat": 4,
 "nbformat_minor": 2
}
